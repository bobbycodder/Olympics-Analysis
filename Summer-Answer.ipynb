{
 "cells": [
  {
   "cell_type": "markdown",
   "metadata": {},
   "source": [
    "# Summer Olympics Data Analysis Assignment"
   ]
  },
  {
   "cell_type": "markdown",
   "metadata": {},
   "source": [
    "### 1. In how many cities Summer Olympics is held so far?"
   ]
  },
  {
   "cell_type": "code",
   "execution_count": null,
   "metadata": {},
   "outputs": [],
   "source": [
    "Cities = 22\n",
    "\n",
    "Country = 147 + 1(NAN value)"
   ]
  },
  {
   "cell_type": "markdown",
   "metadata": {},
   "source": [
    "### 2. Which sport is having most number of Gold Medals so far? (Top 5)"
   ]
  },
  {
   "cell_type": "code",
   "execution_count": null,
   "metadata": {},
   "outputs": [],
   "source": [
    "Sport            Medal\n",
    "\n",
    "Aquatics      Gold   1421\n",
    "\n",
    "Athletics     Gold   1215\n",
    "\n",
    "Rowing        Gold   890\n",
    "\n",
    "Gymnastics    Gold   820\n",
    "\n",
    "Fencing       Gold   552"
   ]
  },
  {
   "cell_type": "markdown",
   "metadata": {},
   "source": [
    "### 3. Which sport is having most number of medals so far? (Top 5)"
   ]
  },
  {
   "cell_type": "code",
   "execution_count": null,
   "metadata": {},
   "outputs": [],
   "source": [
    "Sport\n",
    "\n",
    "Aquatics      4170\n",
    "Athletics     3638\n",
    "Rowing        2667\n",
    "Gymnastics    2307\n",
    "Fencing       1613"
   ]
  },
  {
   "cell_type": "markdown",
   "metadata": {},
   "source": [
    "### 4. Which player has won most number of medals? (Top 5)"
   ]
  },
  {
   "cell_type": "code",
   "execution_count": null,
   "metadata": {},
   "outputs": [],
   "source": [
    "Athlete\n",
    "\n",
    "PHELPS, Michael         22\n",
    "LATYNINA, Larisa        18\n",
    "ANDRIANOV, Nikolay      15\n",
    "MANGIAROTTI, Edoardo    13\n",
    "SHAKHLIN, Boris         13"
   ]
  },
  {
   "cell_type": "markdown",
   "metadata": {},
   "source": [
    "### 5. Which player has won most number Gold Medals of medals? (Top 5)"
   ]
  },
  {
   "cell_type": "code",
   "execution_count": null,
   "metadata": {},
   "outputs": [],
   "source": [
    "Athlete           Medal\n",
    "\n",
    "PHELPS, Michael   Gold     18\n",
    "NURMI, Paavo      Gold      9\n",
    "SPITZ, Mark       Gold      9\n",
    "LEWIS, Carl       Gold      9\n",
    "LATYNINA, Larisa  Gold      9"
   ]
  },
  {
   "cell_type": "markdown",
   "metadata": {},
   "source": [
    "### 6. In which year India won first Gold Medal in Summer Olympics?"
   ]
  },
  {
   "cell_type": "code",
   "execution_count": null,
   "metadata": {},
   "outputs": [],
   "source": [
    "Country   Medal   Year   Sport\n",
    "\n",
    "IND       Gold    1928   Hockey"
   ]
  },
  {
   "cell_type": "markdown",
   "metadata": {},
   "source": [
    "### 7. Which event is most popular in terms on number of players? (Top 5)"
   ]
  },
  {
   "cell_type": "code",
   "execution_count": null,
   "metadata": {},
   "outputs": [],
   "source": [
    "Event\n",
    "\n",
    "Football            1497\n",
    "Hockey              1422\n",
    "Team Competition    1147\n",
    "Basketball          1012\n",
    "Handball             973"
   ]
  },
  {
   "cell_type": "markdown",
   "metadata": {},
   "source": [
    "### 8. Which sport is having most female Gold Medalists? (Top 5)"
   ]
  },
  {
   "cell_type": "code",
   "execution_count": null,
   "metadata": {},
   "outputs": [],
   "source": [
    "Medal  Sport       Gender\n",
    "\n",
    "Gold   Aquatics    Women     589\n",
    "GOld   Athletics   Women     389\n",
    "Gold   Gymnastics  Women     268\n",
    "Gold   Rowing      Women     217\n",
    "Gold   Volleyball  Women     166"
   ]
  }
 ],
 "metadata": {
  "kernelspec": {
   "display_name": "Python 3",
   "language": "python",
   "name": "python3"
  },
  "language_info": {
   "codemirror_mode": {
    "name": "ipython",
    "version": 3
   },
   "file_extension": ".py",
   "mimetype": "text/x-python",
   "name": "python",
   "nbconvert_exporter": "python",
   "pygments_lexer": "ipython3",
   "version": "3.8.8"
  }
 },
 "nbformat": 4,
 "nbformat_minor": 2
}
