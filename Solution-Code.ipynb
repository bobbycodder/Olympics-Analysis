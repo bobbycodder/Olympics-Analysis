{
 "cells": [
  {
   "cell_type": "code",
   "execution_count": 1,
   "id": "7d21ba5b",
   "metadata": {},
   "outputs": [],
   "source": [
    "import pandas as pd\n",
    "import numpy as np"
   ]
  },
  {
   "cell_type": "code",
   "execution_count": 2,
   "id": "4167cdf4",
   "metadata": {},
   "outputs": [
    {
     "data": {
      "text/html": [
       "<div>\n",
       "<style scoped>\n",
       "    .dataframe tbody tr th:only-of-type {\n",
       "        vertical-align: middle;\n",
       "    }\n",
       "\n",
       "    .dataframe tbody tr th {\n",
       "        vertical-align: top;\n",
       "    }\n",
       "\n",
       "    .dataframe thead th {\n",
       "        text-align: right;\n",
       "    }\n",
       "</style>\n",
       "<table border=\"1\" class=\"dataframe\">\n",
       "  <thead>\n",
       "    <tr style=\"text-align: right;\">\n",
       "      <th></th>\n",
       "      <th>Year</th>\n",
       "      <th>City</th>\n",
       "      <th>Sport</th>\n",
       "      <th>Discipline</th>\n",
       "      <th>Athlete</th>\n",
       "      <th>Country</th>\n",
       "      <th>Gender</th>\n",
       "      <th>Event</th>\n",
       "      <th>Medal</th>\n",
       "    </tr>\n",
       "  </thead>\n",
       "  <tbody>\n",
       "    <tr>\n",
       "      <th>0</th>\n",
       "      <td>1896</td>\n",
       "      <td>Athens</td>\n",
       "      <td>Aquatics</td>\n",
       "      <td>Swimming</td>\n",
       "      <td>HAJOS, Alfred</td>\n",
       "      <td>HUN</td>\n",
       "      <td>Men</td>\n",
       "      <td>100M Freestyle</td>\n",
       "      <td>Gold</td>\n",
       "    </tr>\n",
       "    <tr>\n",
       "      <th>1</th>\n",
       "      <td>1896</td>\n",
       "      <td>Athens</td>\n",
       "      <td>Aquatics</td>\n",
       "      <td>Swimming</td>\n",
       "      <td>HERSCHMANN, Otto</td>\n",
       "      <td>AUT</td>\n",
       "      <td>Men</td>\n",
       "      <td>100M Freestyle</td>\n",
       "      <td>Silver</td>\n",
       "    </tr>\n",
       "    <tr>\n",
       "      <th>2</th>\n",
       "      <td>1896</td>\n",
       "      <td>Athens</td>\n",
       "      <td>Aquatics</td>\n",
       "      <td>Swimming</td>\n",
       "      <td>DRIVAS, Dimitrios</td>\n",
       "      <td>GRE</td>\n",
       "      <td>Men</td>\n",
       "      <td>100M Freestyle For Sailors</td>\n",
       "      <td>Bronze</td>\n",
       "    </tr>\n",
       "    <tr>\n",
       "      <th>3</th>\n",
       "      <td>1896</td>\n",
       "      <td>Athens</td>\n",
       "      <td>Aquatics</td>\n",
       "      <td>Swimming</td>\n",
       "      <td>MALOKINIS, Ioannis</td>\n",
       "      <td>GRE</td>\n",
       "      <td>Men</td>\n",
       "      <td>100M Freestyle For Sailors</td>\n",
       "      <td>Gold</td>\n",
       "    </tr>\n",
       "    <tr>\n",
       "      <th>4</th>\n",
       "      <td>1896</td>\n",
       "      <td>Athens</td>\n",
       "      <td>Aquatics</td>\n",
       "      <td>Swimming</td>\n",
       "      <td>CHASAPIS, Spiridon</td>\n",
       "      <td>GRE</td>\n",
       "      <td>Men</td>\n",
       "      <td>100M Freestyle For Sailors</td>\n",
       "      <td>Silver</td>\n",
       "    </tr>\n",
       "  </tbody>\n",
       "</table>\n",
       "</div>"
      ],
      "text/plain": [
       "   Year    City     Sport Discipline             Athlete Country Gender  \\\n",
       "0  1896  Athens  Aquatics   Swimming       HAJOS, Alfred     HUN    Men   \n",
       "1  1896  Athens  Aquatics   Swimming    HERSCHMANN, Otto     AUT    Men   \n",
       "2  1896  Athens  Aquatics   Swimming   DRIVAS, Dimitrios     GRE    Men   \n",
       "3  1896  Athens  Aquatics   Swimming  MALOKINIS, Ioannis     GRE    Men   \n",
       "4  1896  Athens  Aquatics   Swimming  CHASAPIS, Spiridon     GRE    Men   \n",
       "\n",
       "                        Event   Medal  \n",
       "0              100M Freestyle    Gold  \n",
       "1              100M Freestyle  Silver  \n",
       "2  100M Freestyle For Sailors  Bronze  \n",
       "3  100M Freestyle For Sailors    Gold  \n",
       "4  100M Freestyle For Sailors  Silver  "
      ]
     },
     "execution_count": 2,
     "metadata": {},
     "output_type": "execute_result"
    }
   ],
   "source": [
    "data = pd.read_csv(\"summer.csv\")\n",
    "data.head()"
   ]
  },
  {
   "cell_type": "code",
   "execution_count": 3,
   "id": "587e64b1",
   "metadata": {},
   "outputs": [
    {
     "data": {
      "text/plain": [
       "147"
      ]
     },
     "execution_count": 3,
     "metadata": {},
     "output_type": "execute_result"
    }
   ],
   "source": [
    "data[\"Country\"].nunique()"
   ]
  },
  {
   "cell_type": "code",
   "execution_count": 4,
   "id": "31713218",
   "metadata": {
    "scrolled": true
   },
   "outputs": [
    {
     "data": {
      "text/plain": [
       "22"
      ]
     },
     "execution_count": 4,
     "metadata": {},
     "output_type": "execute_result"
    }
   ],
   "source": [
    "data['City'].nunique()"
   ]
  },
  {
   "cell_type": "code",
   "execution_count": 5,
   "id": "00e54f37",
   "metadata": {},
   "outputs": [
    {
     "data": {
      "text/plain": [
       "Gold      10486\n",
       "Bronze    10369\n",
       "Silver    10310\n",
       "Name: Medal, dtype: int64"
      ]
     },
     "execution_count": 5,
     "metadata": {},
     "output_type": "execute_result"
    }
   ],
   "source": [
    "data.Medal.value_counts()"
   ]
  },
  {
   "cell_type": "code",
   "execution_count": 6,
   "id": "d9e4a002",
   "metadata": {},
   "outputs": [],
   "source": [
    "df = data[data['Medal']=='Gold']"
   ]
  },
  {
   "cell_type": "code",
   "execution_count": 7,
   "id": "ac1fc825",
   "metadata": {
    "scrolled": true
   },
   "outputs": [
    {
     "data": {
      "text/plain": [
       "Sport       Medal\n",
       "Aquatics    Gold     1421\n",
       "Athletics   Gold     1215\n",
       "Rowing      Gold      890\n",
       "Gymnastics  Gold      820\n",
       "Fencing     Gold      552\n",
       "Name: Medal, dtype: int64"
      ]
     },
     "execution_count": 7,
     "metadata": {},
     "output_type": "execute_result"
    }
   ],
   "source": [
    "df.groupby(\"Sport\")[\"Medal\"].value_counts().sort_values(ascending = False).head()"
   ]
  },
  {
   "cell_type": "code",
   "execution_count": 8,
   "id": "dda23617",
   "metadata": {},
   "outputs": [
    {
     "data": {
      "text/plain": [
       "Sport\n",
       "Aquatics      4170\n",
       "Athletics     3638\n",
       "Rowing        2667\n",
       "Gymnastics    2307\n",
       "Fencing       1613\n",
       "Name: Medal, dtype: int64"
      ]
     },
     "execution_count": 8,
     "metadata": {},
     "output_type": "execute_result"
    }
   ],
   "source": [
    "data.groupby(\"Sport\")[\"Medal\"].count().sort_values(ascending = False).head(5)"
   ]
  },
  {
   "cell_type": "code",
   "execution_count": 9,
   "id": "ccdec4b2",
   "metadata": {},
   "outputs": [
    {
     "data": {
      "text/plain": [
       "Athlete\n",
       "PHELPS, Michael         22\n",
       "LATYNINA, Larisa        18\n",
       "ANDRIANOV, Nikolay      15\n",
       "MANGIAROTTI, Edoardo    13\n",
       "SHAKHLIN, Boris         13\n",
       "Name: Medal, dtype: int64"
      ]
     },
     "execution_count": 9,
     "metadata": {},
     "output_type": "execute_result"
    }
   ],
   "source": [
    "data.groupby(\"Athlete\")[\"Medal\"].count().sort_values(ascending = False).head(5)"
   ]
  },
  {
   "cell_type": "code",
   "execution_count": 10,
   "id": "206b373a",
   "metadata": {},
   "outputs": [
    {
     "data": {
      "text/plain": [
       "Athlete           Medal\n",
       "PHELPS, Michael   Gold     18\n",
       "NURMI, Paavo      Gold      9\n",
       "SPITZ, Mark       Gold      9\n",
       "LEWIS, Carl       Gold      9\n",
       "LATYNINA, Larisa  Gold      9\n",
       "Name: Medal, dtype: int64"
      ]
     },
     "execution_count": 10,
     "metadata": {},
     "output_type": "execute_result"
    }
   ],
   "source": [
    "df.groupby(\"Athlete\")[\"Medal\"].value_counts().sort_values(ascending = False).head(5)"
   ]
  },
  {
   "cell_type": "code",
   "execution_count": 11,
   "id": "12c6ce30",
   "metadata": {},
   "outputs": [
    {
     "data": {
      "text/html": [
       "<div>\n",
       "<style scoped>\n",
       "    .dataframe tbody tr th:only-of-type {\n",
       "        vertical-align: middle;\n",
       "    }\n",
       "\n",
       "    .dataframe tbody tr th {\n",
       "        vertical-align: top;\n",
       "    }\n",
       "\n",
       "    .dataframe thead th {\n",
       "        text-align: right;\n",
       "    }\n",
       "</style>\n",
       "<table border=\"1\" class=\"dataframe\">\n",
       "  <thead>\n",
       "    <tr style=\"text-align: right;\">\n",
       "      <th></th>\n",
       "      <th>Year</th>\n",
       "      <th>City</th>\n",
       "      <th>Sport</th>\n",
       "      <th>Discipline</th>\n",
       "      <th>Athlete</th>\n",
       "      <th>Country</th>\n",
       "      <th>Gender</th>\n",
       "      <th>Event</th>\n",
       "      <th>Medal</th>\n",
       "    </tr>\n",
       "  </thead>\n",
       "  <tbody>\n",
       "    <tr>\n",
       "      <th>417</th>\n",
       "      <td>1900</td>\n",
       "      <td>Paris</td>\n",
       "      <td>Golf</td>\n",
       "      <td>Golf</td>\n",
       "      <td>ABBOTT, Margaret Ives</td>\n",
       "      <td>USA</td>\n",
       "      <td>Women</td>\n",
       "      <td>Individual</td>\n",
       "      <td>Gold</td>\n",
       "    </tr>\n",
       "    <tr>\n",
       "      <th>641</th>\n",
       "      <td>1900</td>\n",
       "      <td>Paris</td>\n",
       "      <td>Tennis</td>\n",
       "      <td>Tennis</td>\n",
       "      <td>COOPER, Charlotte</td>\n",
       "      <td>GBR</td>\n",
       "      <td>Women</td>\n",
       "      <td>Mixed Doubles</td>\n",
       "      <td>Gold</td>\n",
       "    </tr>\n",
       "    <tr>\n",
       "      <th>649</th>\n",
       "      <td>1900</td>\n",
       "      <td>Paris</td>\n",
       "      <td>Tennis</td>\n",
       "      <td>Tennis</td>\n",
       "      <td>COOPER, Charlotte</td>\n",
       "      <td>GBR</td>\n",
       "      <td>Women</td>\n",
       "      <td>Singles</td>\n",
       "      <td>Gold</td>\n",
       "    </tr>\n",
       "    <tr>\n",
       "      <th>710</th>\n",
       "      <td>1904</td>\n",
       "      <td>St Louis</td>\n",
       "      <td>Archery</td>\n",
       "      <td>Archery</td>\n",
       "      <td>HOWELL, Matilda Scott</td>\n",
       "      <td>USA</td>\n",
       "      <td>Women</td>\n",
       "      <td>Double Columbia Round (50Y - 40Y - 30Y)</td>\n",
       "      <td>Gold</td>\n",
       "    </tr>\n",
       "    <tr>\n",
       "      <th>713</th>\n",
       "      <td>1904</td>\n",
       "      <td>St Louis</td>\n",
       "      <td>Archery</td>\n",
       "      <td>Archery</td>\n",
       "      <td>HOWELL, Matilda Scott</td>\n",
       "      <td>USA</td>\n",
       "      <td>Women</td>\n",
       "      <td>Double National Round (60Y - 50Y)</td>\n",
       "      <td>Gold</td>\n",
       "    </tr>\n",
       "  </tbody>\n",
       "</table>\n",
       "</div>"
      ],
      "text/plain": [
       "     Year      City    Sport Discipline                Athlete Country Gender  \\\n",
       "417  1900     Paris     Golf       Golf  ABBOTT, Margaret Ives     USA  Women   \n",
       "641  1900     Paris   Tennis     Tennis      COOPER, Charlotte     GBR  Women   \n",
       "649  1900     Paris   Tennis     Tennis      COOPER, Charlotte     GBR  Women   \n",
       "710  1904  St Louis  Archery    Archery  HOWELL, Matilda Scott     USA  Women   \n",
       "713  1904  St Louis  Archery    Archery  HOWELL, Matilda Scott     USA  Women   \n",
       "\n",
       "                                       Event Medal  \n",
       "417                               Individual  Gold  \n",
       "641                            Mixed Doubles  Gold  \n",
       "649                                  Singles  Gold  \n",
       "710  Double Columbia Round (50Y - 40Y - 30Y)  Gold  \n",
       "713        Double National Round (60Y - 50Y)  Gold  "
      ]
     },
     "execution_count": 11,
     "metadata": {},
     "output_type": "execute_result"
    }
   ],
   "source": [
    "df_gen = df[df['Gender']=='Women']\n",
    "df_gen.head()"
   ]
  },
  {
   "cell_type": "code",
   "execution_count": 12,
   "id": "5dd6a8e0",
   "metadata": {
    "scrolled": true
   },
   "outputs": [
    {
     "data": {
      "text/plain": [
       "Medal  Sport       Gender\n",
       "Gold   Aquatics    Women     589\n",
       "       Athletics   Women     389\n",
       "       Gymnastics  Women     268\n",
       "       Rowing      Women     217\n",
       "       Volleyball  Women     166\n",
       "Name: Gender, dtype: int64"
      ]
     },
     "execution_count": 12,
     "metadata": {},
     "output_type": "execute_result"
    }
   ],
   "source": [
    "df_gen.groupby([\"Medal\",\"Sport\"])[\"Gender\"].value_counts().sort_values(ascending = False).head(5)"
   ]
  },
  {
   "cell_type": "code",
   "execution_count": 13,
   "id": "48f8a681",
   "metadata": {},
   "outputs": [
    {
     "data": {
      "text/plain": [
       "Event\n",
       "Football            1497\n",
       "Hockey              1422\n",
       "Team Competition    1147\n",
       "Basketball          1012\n",
       "Handball             973\n",
       "Name: Gender, dtype: int64"
      ]
     },
     "execution_count": 13,
     "metadata": {},
     "output_type": "execute_result"
    }
   ],
   "source": [
    "data.groupby(\"Event\")[\"Gender\"].count().sort_values(ascending = False).head(5)"
   ]
  },
  {
   "cell_type": "code",
   "execution_count": 14,
   "id": "bdf78c76",
   "metadata": {},
   "outputs": [
    {
     "data": {
      "text/html": [
       "<div>\n",
       "<style scoped>\n",
       "    .dataframe tbody tr th:only-of-type {\n",
       "        vertical-align: middle;\n",
       "    }\n",
       "\n",
       "    .dataframe tbody tr th {\n",
       "        vertical-align: top;\n",
       "    }\n",
       "\n",
       "    .dataframe thead th {\n",
       "        text-align: right;\n",
       "    }\n",
       "</style>\n",
       "<table border=\"1\" class=\"dataframe\">\n",
       "  <thead>\n",
       "    <tr style=\"text-align: right;\">\n",
       "      <th></th>\n",
       "      <th>Year</th>\n",
       "      <th>City</th>\n",
       "      <th>Sport</th>\n",
       "      <th>Discipline</th>\n",
       "      <th>Athlete</th>\n",
       "      <th>Country</th>\n",
       "      <th>Gender</th>\n",
       "      <th>Event</th>\n",
       "      <th>Medal</th>\n",
       "    </tr>\n",
       "  </thead>\n",
       "  <tbody>\n",
       "    <tr>\n",
       "      <th>5512</th>\n",
       "      <td>1928</td>\n",
       "      <td>Amsterdam</td>\n",
       "      <td>Hockey</td>\n",
       "      <td>Hockey</td>\n",
       "      <td>ALLEN, Richard James</td>\n",
       "      <td>IND</td>\n",
       "      <td>Men</td>\n",
       "      <td>Hockey</td>\n",
       "      <td>Gold</td>\n",
       "    </tr>\n",
       "    <tr>\n",
       "      <th>5513</th>\n",
       "      <td>1928</td>\n",
       "      <td>Amsterdam</td>\n",
       "      <td>Hockey</td>\n",
       "      <td>Hockey</td>\n",
       "      <td>CHAND, Dyan</td>\n",
       "      <td>IND</td>\n",
       "      <td>Men</td>\n",
       "      <td>Hockey</td>\n",
       "      <td>Gold</td>\n",
       "    </tr>\n",
       "    <tr>\n",
       "      <th>5514</th>\n",
       "      <td>1928</td>\n",
       "      <td>Amsterdam</td>\n",
       "      <td>Hockey</td>\n",
       "      <td>Hockey</td>\n",
       "      <td>GATELEY, Maurice A.</td>\n",
       "      <td>IND</td>\n",
       "      <td>Men</td>\n",
       "      <td>Hockey</td>\n",
       "      <td>Gold</td>\n",
       "    </tr>\n",
       "    <tr>\n",
       "      <th>5515</th>\n",
       "      <td>1928</td>\n",
       "      <td>Amsterdam</td>\n",
       "      <td>Hockey</td>\n",
       "      <td>Hockey</td>\n",
       "      <td>GILL, K. S.</td>\n",
       "      <td>IND</td>\n",
       "      <td>Men</td>\n",
       "      <td>Hockey</td>\n",
       "      <td>Gold</td>\n",
       "    </tr>\n",
       "    <tr>\n",
       "      <th>5516</th>\n",
       "      <td>1928</td>\n",
       "      <td>Amsterdam</td>\n",
       "      <td>Hockey</td>\n",
       "      <td>Hockey</td>\n",
       "      <td>GOODSIR-CULLEN, William John</td>\n",
       "      <td>IND</td>\n",
       "      <td>Men</td>\n",
       "      <td>Hockey</td>\n",
       "      <td>Gold</td>\n",
       "    </tr>\n",
       "  </tbody>\n",
       "</table>\n",
       "</div>"
      ],
      "text/plain": [
       "      Year       City   Sport Discipline                       Athlete  \\\n",
       "5512  1928  Amsterdam  Hockey     Hockey          ALLEN, Richard James   \n",
       "5513  1928  Amsterdam  Hockey     Hockey                   CHAND, Dyan   \n",
       "5514  1928  Amsterdam  Hockey     Hockey           GATELEY, Maurice A.   \n",
       "5515  1928  Amsterdam  Hockey     Hockey                   GILL, K. S.   \n",
       "5516  1928  Amsterdam  Hockey     Hockey  GOODSIR-CULLEN, William John   \n",
       "\n",
       "     Country Gender   Event Medal  \n",
       "5512     IND    Men  Hockey  Gold  \n",
       "5513     IND    Men  Hockey  Gold  \n",
       "5514     IND    Men  Hockey  Gold  \n",
       "5515     IND    Men  Hockey  Gold  \n",
       "5516     IND    Men  Hockey  Gold  "
      ]
     },
     "execution_count": 14,
     "metadata": {},
     "output_type": "execute_result"
    }
   ],
   "source": [
    "df_con = df.loc[data.Country==\"IND\"]\n",
    "df_con.head()"
   ]
  },
  {
   "cell_type": "code",
   "execution_count": 15,
   "id": "b72fff72",
   "metadata": {},
   "outputs": [
    {
     "name": "stderr",
     "output_type": "stream",
     "text": [
      "C:\\Users\\Anurag\\anaconda3\\lib\\site-packages\\ipykernel_launcher.py:1: FutureWarning: Indexing with multiple keys (implicitly converted to a tuple of keys) will be deprecated, use a list instead.\n",
      "  \"\"\"Entry point for launching an IPython kernel.\n"
     ]
    },
    {
     "data": {
      "text/html": [
       "<div>\n",
       "<style scoped>\n",
       "    .dataframe tbody tr th:only-of-type {\n",
       "        vertical-align: middle;\n",
       "    }\n",
       "\n",
       "    .dataframe tbody tr th {\n",
       "        vertical-align: top;\n",
       "    }\n",
       "\n",
       "    .dataframe thead th {\n",
       "        text-align: right;\n",
       "    }\n",
       "</style>\n",
       "<table border=\"1\" class=\"dataframe\">\n",
       "  <thead>\n",
       "    <tr style=\"text-align: right;\">\n",
       "      <th></th>\n",
       "      <th>Country</th>\n",
       "      <th>Medal</th>\n",
       "      <th>Year</th>\n",
       "      <th>Sport</th>\n",
       "    </tr>\n",
       "  </thead>\n",
       "  <tbody>\n",
       "    <tr>\n",
       "      <th>5512</th>\n",
       "      <td>IND</td>\n",
       "      <td>Gold</td>\n",
       "      <td>1928</td>\n",
       "      <td>Hockey</td>\n",
       "    </tr>\n",
       "    <tr>\n",
       "      <th>5513</th>\n",
       "      <td>IND</td>\n",
       "      <td>Gold</td>\n",
       "      <td>1928</td>\n",
       "      <td>Hockey</td>\n",
       "    </tr>\n",
       "    <tr>\n",
       "      <th>5514</th>\n",
       "      <td>IND</td>\n",
       "      <td>Gold</td>\n",
       "      <td>1928</td>\n",
       "      <td>Hockey</td>\n",
       "    </tr>\n",
       "    <tr>\n",
       "      <th>5515</th>\n",
       "      <td>IND</td>\n",
       "      <td>Gold</td>\n",
       "      <td>1928</td>\n",
       "      <td>Hockey</td>\n",
       "    </tr>\n",
       "    <tr>\n",
       "      <th>5516</th>\n",
       "      <td>IND</td>\n",
       "      <td>Gold</td>\n",
       "      <td>1928</td>\n",
       "      <td>Hockey</td>\n",
       "    </tr>\n",
       "  </tbody>\n",
       "</table>\n",
       "</div>"
      ],
      "text/plain": [
       "     Country Medal  Year   Sport\n",
       "5512     IND  Gold  1928  Hockey\n",
       "5513     IND  Gold  1928  Hockey\n",
       "5514     IND  Gold  1928  Hockey\n",
       "5515     IND  Gold  1928  Hockey\n",
       "5516     IND  Gold  1928  Hockey"
      ]
     },
     "execution_count": 15,
     "metadata": {},
     "output_type": "execute_result"
    }
   ],
   "source": [
    "df_con.groupby('Country')['Country','Medal','Year', 'Sport'].head()"
   ]
  },
  {
   "cell_type": "markdown",
   "id": "d0b8c351",
   "metadata": {},
   "source": [
    "# The End!"
   ]
  }
 ],
 "metadata": {
  "kernelspec": {
   "display_name": "Python 3",
   "language": "python",
   "name": "python3"
  },
  "language_info": {
   "codemirror_mode": {
    "name": "ipython",
    "version": 3
   },
   "file_extension": ".py",
   "mimetype": "text/x-python",
   "name": "python",
   "nbconvert_exporter": "python",
   "pygments_lexer": "ipython3",
   "version": "3.8.8"
  }
 },
 "nbformat": 4,
 "nbformat_minor": 5
}
